{
 "cells": [
  {
   "cell_type": "code",
   "execution_count": 1,
   "metadata": {
    "collapsed": true
   },
   "outputs": [],
   "source": [
    "%load_ext autoreload"
   ]
  },
  {
   "cell_type": "code",
   "execution_count": 2,
   "metadata": {
    "collapsed": true
   },
   "outputs": [],
   "source": [
    "%autoreload 2"
   ]
  },
  {
   "cell_type": "code",
   "execution_count": 3,
   "metadata": {
    "collapsed": false
   },
   "outputs": [],
   "source": [
    "%aimport vector"
   ]
  },
  {
   "cell_type": "code",
   "execution_count": 20,
   "metadata": {
    "collapsed": true
   },
   "outputs": [],
   "source": [
    "from vector import *"
   ]
  },
  {
   "cell_type": "markdown",
   "metadata": {},
   "source": [
    "# Quiz: Plus, Minus, Scalar Multiply"
   ]
  },
  {
   "cell_type": "code",
   "execution_count": 39,
   "metadata": {
    "collapsed": false,
    "scrolled": true
   },
   "outputs": [
    {
     "name": "stdout",
     "output_type": "stream",
     "text": [
      "Vector: (Decimal('3'), Decimal('5'), Decimal('7'))\n"
     ]
    }
   ],
   "source": [
    "v = Vector([1,2,3])\n",
    "w = Vector([2,3,4])\n",
    "print v.plus(w)"
   ]
  },
  {
   "cell_type": "markdown",
   "metadata": {},
   "source": [
    "# Quiz: Maginitude & Direction"
   ]
  },
  {
   "cell_type": "code",
   "execution_count": 40,
   "metadata": {
    "collapsed": false
   },
   "outputs": [
    {
     "name": "stdout",
     "output_type": "stream",
     "text": [
      "7.4402829247280646285389593685977160930633544921875\n",
      "10.8841875672922885343041343730874359607696533203125\n",
      "Vector: (Decimal('0.9339352140866402951305391471'), Decimal('-0.3574423252623299835949640556'))\n",
      "Vector: (Decimal('0.3404012959433013535371710457'), Decimal('0.5300437012984872952550232004'), Decimal('-0.7766470449528028350089956868'))\n"
     ]
    }
   ],
   "source": [
    "v = Vector([-0.221, 7.437])\n",
    "print v.magnitude()\n",
    "v = Vector([8.813, -1.331, -6.247])\n",
    "print v.magnitude()\n",
    "v = Vector([5.581, -2.136])\n",
    "print v.normalized()\n",
    "v = Vector([1.996, 3.108, -4.554])\n",
    "print v.normalized()"
   ]
  },
  {
   "cell_type": "markdown",
   "metadata": {},
   "source": [
    "# Quiz: Coding Dot Product & Angle"
   ]
  },
  {
   "cell_type": "code",
   "execution_count": 46,
   "metadata": {
    "collapsed": false
   },
   "outputs": [
    {
     "name": "stdout",
     "output_type": "stream",
     "text": [
      "-41.38228599999999454398391663\n",
      "56.39717800000000569975711073\n",
      "3.07202630984\n",
      "60.2758112052\n"
     ]
    }
   ],
   "source": [
    "from vector import *\n",
    "\n",
    "v = Vector([7.887, 4.138])\n",
    "w = Vector([-8.802, 6.776])\n",
    "print v.dot(w)\n",
    "\n",
    "v = Vector([-5.955, -4.904, -1.874])\n",
    "w = Vector([-4.496, -8.755, 7.103])\n",
    "print v.dot(w)\n",
    "\n",
    "v = Vector([3.183, -7.627])\n",
    "w = Vector([-2.668, 5.319])\n",
    "print v.angle(w)\n",
    "\n",
    "v = Vector([7.35, 0.221, 5.188])\n",
    "w = Vector([2.751, 8.259, 3.985])\n",
    "print v.angle(w, True)"
   ]
  },
  {
   "cell_type": "markdown",
   "metadata": {},
   "source": [
    "# Checking Parallel, Orthogonal"
   ]
  },
  {
   "cell_type": "code",
   "execution_count": 75,
   "metadata": {
    "collapsed": false
   },
   "outputs": [
    {
     "name": "stdout",
     "output_type": "stream",
     "text": [
      "True\n",
      "False\n",
      "False\n",
      "False\n",
      "False\n",
      "True\n",
      "True\n",
      "True\n"
     ]
    }
   ],
   "source": [
    "from vector import *\n",
    "\n",
    "v = Vector([-7.579, -7.88])\n",
    "w = Vector([22.737, 23.64])\n",
    "print v.is_parallel(w)\n",
    "print v.is_orthogonal(w)\n",
    "\n",
    "v = Vector([-2.029, 9.97, 4.172])\n",
    "w = Vector([-9.231, -6.639, -7.245])\n",
    "print v.is_parallel(w)\n",
    "print v.is_orthogonal(w)\n",
    "\n",
    "v = Vector([-2.328, -7.284, -1.214])\n",
    "w = Vector([-1.821, 1.072, -2.94])\n",
    "print v.is_parallel(w)\n",
    "print v.is_orthogonal(w)\n",
    "\n",
    "v = Vector([2.118, 4.827])\n",
    "w = Vector([0, 0])\n",
    "print v.is_parallel(w)\n",
    "print v.is_orthogonal(w)\n"
   ]
  },
  {
   "cell_type": "markdown",
   "metadata": {},
   "source": [
    "# Quiz: Coding Vector Projects"
   ]
  },
  {
   "cell_type": "code",
   "execution_count": 96,
   "metadata": {
    "collapsed": false
   },
   "outputs": [
    {
     "name": "stdout",
     "output_type": "stream",
     "text": [
      "Vector: {1.083, 2.672}\n",
      "Vector: {-8.350, 3.376, -1.433}\n",
      "Vector: {1.969, -2.811, 0.848, 2.680}\n",
      "Vector: {1.040, -3.361, 2.844, -5.190}\n"
     ]
    }
   ],
   "source": [
    "from vector import *\n",
    "\n",
    "v = Vector([3.039, 1.879])\n",
    "b = Vector([0.825, 2.036])\n",
    "print v.parallel_project(b)\n",
    "\n",
    "v = Vector([-9.88, -3.264, -8.159])\n",
    "b = Vector([-2.155, -9.352, -9.473])\n",
    "print v.orthogonal_project(b)\n",
    "\n",
    "v = Vector([3.009, -6.172, 3.692, -2.51])\n",
    "b = Vector([6.404, -9.144, 2.759, 8.718])\n",
    "print v.parallel_project(b)\n",
    "print v.orthogonal_project(b)"
   ]
  },
  {
   "cell_type": "markdown",
   "metadata": {},
   "source": [
    "# Quiz: Coding Cross Products"
   ]
  },
  {
   "cell_type": "code",
   "execution_count": 102,
   "metadata": {
    "collapsed": false
   },
   "outputs": [
    {
     "name": "stdout",
     "output_type": "stream",
     "text": [
      "Vector: {-11.205, -97.609, -105.685}\n",
      "142.1222214018463319007423706352710723876953125\n",
      "42.56493739941893750255985651\n"
     ]
    }
   ],
   "source": [
    "from vector import *\n",
    "\n",
    "v = Vector([8.462, 7.893, -8.187])\n",
    "w = Vector([6.984, -5.975, 4.778])\n",
    "print v.cross(w)\n",
    "\n",
    "v = Vector([-8.987, -9.838, 5.031])\n",
    "w = Vector([-4.268, -1.861, -8.866])\n",
    "print v.area_parallelogram(w)\n",
    "\n",
    "v = Vector([1.5, 9.547, 3.691])\n",
    "w = Vector([-6.007, 0.124, 5.772])\n",
    "print v.area_triangle(w)"
   ]
  }
 ],
 "metadata": {
  "kernelspec": {
   "display_name": "Python 2",
   "language": "python",
   "name": "python2"
  },
  "language_info": {
   "codemirror_mode": {
    "name": "ipython",
    "version": 2
   },
   "file_extension": ".py",
   "mimetype": "text/x-python",
   "name": "python",
   "nbconvert_exporter": "python",
   "pygments_lexer": "ipython2",
   "version": "2.7.11"
  }
 },
 "nbformat": 4,
 "nbformat_minor": 0
}
