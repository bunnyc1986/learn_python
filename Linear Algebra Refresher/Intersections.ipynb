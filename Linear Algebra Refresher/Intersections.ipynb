{
 "cells": [
  {
   "cell_type": "code",
   "execution_count": 1,
   "metadata": {
    "collapsed": false
   },
   "outputs": [],
   "source": [
    "%load_ext autoreload\n",
    "%autoreload 2\n",
    "%aimport vector\n",
    "%aimport line"
   ]
  },
  {
   "cell_type": "code",
   "execution_count": 2,
   "metadata": {
    "collapsed": true
   },
   "outputs": [],
   "source": [
    "from vector import *\n"
   ]
  },
  {
   "cell_type": "markdown",
   "metadata": {},
   "source": [
    "# Quiz: Coding Function for Lines"
   ]
  },
  {
   "cell_type": "code",
   "execution_count": 7,
   "metadata": {
    "collapsed": false,
    "scrolled": true
   },
   "outputs": [
    {
     "name": "stdout",
     "output_type": "stream",
     "text": [
      "[4.046x_1 + 2.836x_2 = 1.21] is parallel to [10.115x_1 + 7.09x_2 = 3.025]\n",
      "None\n",
      "Same? True\n",
      "Vector: {2.226, -2.312}\n",
      "[1.182x_1 + 5.562x_2 = 6.744] is parallel to [1.773x_1 + 8.343x_2 = 9.525]\n",
      "None\n"
     ]
    }
   ],
   "source": [
    "from line import *\n",
    "\n",
    "l1 = Line(Vector([4.046, 2.836]), 1.21)\n",
    "l2 = Line(Vector([10.115, 7.09]), 3.025)\n",
    "print l1.intersection_with(l2)\n",
    "print 'Same?', l1 == l2\n",
    "\n",
    "l1 = Line(Vector([7.204, 3.182]), 8.68)\n",
    "l2 = Line(Vector([8.172, 4.114]), 9.883)\n",
    "print l1.intersection_with(l2)\n",
    "\n",
    "l1 = Line(Vector([1.182, 5.562]), 6.744)\n",
    "l2 = Line(Vector([1.773, 8.343]), 9.525)\n",
    "print l1.intersection_with(l2)"
   ]
  },
  {
   "cell_type": "code",
   "execution_count": 8,
   "metadata": {
    "collapsed": true
   },
   "outputs": [],
   "source": [
    "%aimport plane"
   ]
  },
  {
   "cell_type": "code",
   "execution_count": 21,
   "metadata": {
    "collapsed": false
   },
   "outputs": [
    {
     "name": "stdout",
     "output_type": "stream",
     "text": [
      "True\n",
      "True\n",
      "False\n",
      "False\n",
      "True\n",
      "False\n"
     ]
    }
   ],
   "source": [
    "from plane import *\n",
    "\n",
    "p1 = Plane(Vector([-0.412, 3.806, 0.728]), -3.46)\n",
    "p2 = Plane(Vector([1.03, -9.515, -1.82]), 8.65)\n",
    "print p1.is_parallel_to(p2)\n",
    "print p1 == p2\n",
    "\n",
    "p1 = Plane(Vector([2.611, 5.528, 0.283]), 4.6)\n",
    "p2 = Plane(Vector([7.715, 8.306, 5.342]), 3.76)\n",
    "print p1.is_parallel_to(p2)\n",
    "print p1 == p2\n",
    "\n",
    "p1 = Plane(Vector([-7.926, 8.625, -7.212]), -7.952)\n",
    "p2 = Plane(Vector([-2.642, 2.875, -2.404]), -2.443)\n",
    "print p1.is_parallel_to(p2)\n",
    "print p1.__eq__(p2)"
   ]
  }
 ],
 "metadata": {
  "kernelspec": {
   "display_name": "Python 2",
   "language": "python",
   "name": "python2"
  },
  "language_info": {
   "codemirror_mode": {
    "name": "ipython",
    "version": 2
   },
   "file_extension": ".py",
   "mimetype": "text/x-python",
   "name": "python",
   "nbconvert_exporter": "python",
   "pygments_lexer": "ipython2",
   "version": "2.7.11"
  }
 },
 "nbformat": 4,
 "nbformat_minor": 0
}
